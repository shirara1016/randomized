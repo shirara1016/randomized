{
 "cells": [
  {
   "cell_type": "code",
   "execution_count": 2,
   "id": "3525ed17",
   "metadata": {},
   "outputs": [
    {
     "name": "stdout",
     "output_type": "stream",
     "text": [
      "0.9054675616312214\n"
     ]
    }
   ],
   "source": [
    "from sicore import truncated_cdf\n",
    "from scipy.stats import norm\n",
    "\n",
    "print(truncated_cdf(norm(), 1.4, [[-1, 3]]))"
   ]
  },
  {
   "cell_type": "code",
   "execution_count": 3,
   "id": "6735dc0b",
   "metadata": {},
   "outputs": [
    {
     "name": "stderr",
     "output_type": "stream",
     "text": [
      "100%|██████████| 400/400 [00:10<00:00, 36.42it/s]\n"
     ]
    },
    {
     "data": {
      "image/png": "[encoded data removed]",
      "text/plain": [
       "<Figure size 640x480 with 1 Axes>"
      ]
     },
     "metadata": {},
     "output_type": "display_data"
    }
   ],
   "source": [
    "import numpy as np\n",
    "from sicore import RealSubset, SelectiveInferenceNorm, linear_polynomials_below_zero, SelectiveInferenceResult\n",
    "from tqdm import tqdm\n",
    "import matplotlib.pyplot as plt\n",
    "\n",
    "class MarginalScreeningNorm:\n",
    "    \"\"\"A class for marginal screening.\"\"\"\n",
    "\n",
    "    def __init__(self, X: np.ndarray, y: np.ndarray, sigma: float, k: int) -> None:\n",
    "        self.X, self.y, self.sigma, self.k = X, y, sigma, k\n",
    "        self.M = self._feature_selection(X, y, k)\n",
    "\n",
    "    def _feature_selection(self, X: np.ndarray, y: np.ndarray, k: int) -> list[int]:\n",
    "        return np.argsort(np.abs(X.T @ y))[::-1][:k].tolist()\n",
    "\n",
    "    def algorithm(\n",
    "        self,\n",
    "        a: np.ndarray,\n",
    "        b: np.ndarray,\n",
    "        z: float,\n",
    "    ) -> tuple[list[int], RealSubset]:\n",
    "        a, b = self.X.T @ a, self.X.T @ b\n",
    "\n",
    "        signs = np.sign(a + b * z)\n",
    "        intervals_ = linear_polynomials_below_zero(-signs * a, -signs * b)\n",
    "        intervals = RealSubset(intervals_)\n",
    "        a, b = signs * a, signs * b\n",
    "\n",
    "        collerations = a + b * z\n",
    "        indexes = np.argsort(collerations)[::-1]\n",
    "\n",
    "        active_set = indexes[: self.k]\n",
    "        inactive_set = indexes[self.k :]\n",
    "\n",
    "        for active in active_set:\n",
    "            temp_intervals = linear_polynomials_below_zero(\n",
    "                a[inactive_set] - a[active],\n",
    "                b[inactive_set] - b[active],\n",
    "            )\n",
    "            intervals = intervals & RealSubset(temp_intervals)\n",
    "\n",
    "        if z not in intervals:\n",
    "            raise ValueError\n",
    "        return indexes[: self.k].tolist(), intervals\n",
    "\n",
    "    def model_selector(self, M: list[int]) -> bool:\n",
    "        return set(self.M) == set(M)\n",
    "\n",
    "    def inference(\n",
    "        self,\n",
    "        index: int,\n",
    "    ) -> SelectiveInferenceResult:\n",
    "        eta = self.construct_eta(index)\n",
    "        self.si = SelectiveInferenceNorm(self.y, self.sigma, eta)\n",
    "        return self.si.inference(\n",
    "            self.algorithm,\n",
    "            self.model_selector,\n",
    "        )\n",
    "\n",
    "    def construct_eta(self, index: int) -> np.ndarray:\n",
    "        return (\n",
    "            self.X[:, self.M]\n",
    "            @ np.linalg.inv(self.X[:, self.M].T @ self.X[:, self.M])[:, index]\n",
    "        )\n",
    "\n",
    "\n",
    "rng = np.random.default_rng(0)\n",
    "n, p, k = 100, 10, 3\n",
    "\n",
    "p_list = []\n",
    "\n",
    "for _ in tqdm(range(400)):\n",
    "    X = rng.normal(size=(n, p))\n",
    "    y = rng.normal(size=n)\n",
    "    sigma = 1.0\n",
    "    ms = MarginalScreeningNorm(X, y, sigma, k)\n",
    "    result = ms.inference(rng.integers(k))\n",
    "    p_list.append(result.p_value)\n",
    "\n",
    "plt.hist(p_list, bins=20)\n",
    "plt.show()"
   ]
  },
  {
   "cell_type": "code",
   "execution_count": 4,
   "id": "1d30241d",
   "metadata": {},
   "outputs": [],
   "source": [
    "from scipy.stats import rv_continuous\n",
    "from scipy.special import logsumexp\n",
    "\n",
    "def compute_log_area(rv: rv_continuous, intervals: RealSubset) -> float:\n",
    "    \"\"\"Compute the logarithm of the integral of the pdf over the each interval.\n",
    "\n",
    "    Parameters\n",
    "    ----------\n",
    "    rv : rv_continuous\n",
    "        The rv_continuous instance to be integrated.\n",
    "    intervals : RealSubset\n",
    "        The intervals on which to compute the integral.\n",
    "\n",
    "    Returns\n",
    "    -------\n",
    "    float\n",
    "        The logarithm of the integral.\n",
    "    \"\"\"\n",
    "    left_ends, right_ends = intervals.intervals.T\n",
    "    log_each_area = np.empty(len(intervals))\n",
    "    mask = left_ends < rv.median()\n",
    "\n",
    "    left_log_cdf, right_log_cdf = (\n",
    "        rv.logcdf(left_ends[mask]),\n",
    "        rv.logcdf(right_ends[mask]),\n",
    "    )\n",
    "    log_each_area[mask] = right_log_cdf + _log1mexp(left_log_cdf - right_log_cdf)\n",
    "\n",
    "    left_log_sf, right_log_sf = rv.logsf(left_ends[~mask]), rv.logsf(right_ends[~mask])\n",
    "    log_each_area[~mask] = left_log_sf + _log1mexp(right_log_sf - left_log_sf)\n",
    "\n",
    "    return logsumexp(log_each_area)\n",
    "\n",
    "\n",
    "def _log1mexp(z: np.ndarray) -> np.ndarray:\n",
    "    \"\"\"Compute the logarithm of one minus the exponential of the input array, element-wise.\n",
    "\n",
    "    Parameters\n",
    "    ----------\n",
    "    z : np.ndarray\n",
    "        Input values.\n",
    "\n",
    "    Returns\n",
    "    -------\n",
    "    np.ndarray\n",
    "        Logarithm of one minus the exponential of the input array.\n",
    "    \"\"\"\n",
    "    z = np.asarray(z)\n",
    "    values = np.empty_like(z)\n",
    "    halflog = -0.693147  # equal to log(0.5)\n",
    "    mask = z < halflog\n",
    "    values[mask] = np.log1p(-np.exp(z[mask]))\n",
    "    values[~mask] = np.log(-np.expm1(z[~mask]))\n",
    "    return values"
   ]
  },
  {
   "cell_type": "code",
   "execution_count": 5,
   "id": "0388cf86",
   "metadata": {},
   "outputs": [
    {
     "name": "stdout",
     "output_type": "stream",
     "text": [
      "[0, 2, 1]\n",
      "stat: 1.995830\n",
      "p_value: 0.124871\n",
      "inf_p: 0.124871\n",
      "sup_p: 0.124894\n",
      "searched_intervals: [[-4.498807, 4.367511]]\n",
      "truncated_intervals: [[-4.498807, -1.010253], [0.800383, 4.367511]]\n",
      "search_count: 6\n",
      "detect_count: 3\n",
      "null_rv: norm\n",
      "alternative: two-sided\n"
     ]
    }
   ],
   "source": [
    "rng = np.random.default_rng(0)\n",
    "n, p, k = 100, 10, 3\n",
    "\n",
    "X = rng.normal(size=(n, p))\n",
    "y = rng.normal(size=n)\n",
    "sigma = 1.0\n",
    "ms = MarginalScreeningNorm(X, y, sigma, k)\n",
    "print(ms.M)\n",
    "result = ms.inference(rng.integers(k))\n",
    "print(result)"
   ]
  },
  {
   "cell_type": "code",
   "execution_count": 6,
   "id": "0f4a7401",
   "metadata": {},
   "outputs": [
    {
     "name": "stdout",
     "output_type": "stream",
     "text": [
      "[0, 2, 1]\n",
      "stat: 1.800473\n",
      "p_value: 0.207969\n",
      "inf_p: 0.207969\n",
      "sup_p: 0.207969\n",
      "searched_intervals: [[-30565586690978368.000000, 721.436666]]\n",
      "truncated_intervals: [[-3.095695, -1.039048], [0.870380, 7.677439]]\n",
      "search_count: 16\n",
      "detect_count: 4\n",
      "null_rv: norm\n",
      "alternative: two-sided\n",
      "1.9958295537871589\n",
      "-1.0774695226089561\n",
      "0.1541184730261964\n"
     ]
    }
   ],
   "source": [
    "from scipy.integrate import quad\n",
    "\n",
    "rng = np.random.default_rng(0)\n",
    "n, p, k = 100, 10, 3\n",
    "\n",
    "tau = 0.2\n",
    "omega = rng.normal(size=n, scale=tau)\n",
    "ms = MarginalScreeningNorm(X, y + omega, (sigma ** 2 + tau ** 2) ** 0.5, k)\n",
    "print(ms.M)\n",
    "eta = ms.construct_eta(0)\n",
    "si = SelectiveInferenceNorm(y + omega, (sigma ** 2 + tau ** 2) ** 0.5, eta)\n",
    "result = si.inference(ms.algorithm, ms.model_selector, inference_mode=\"exhaustive\")\n",
    "print(result)\n",
    "\n",
    "region = result.truncated_intervals\n",
    "\n",
    "si_ = SelectiveInferenceNorm(y, sigma, eta)\n",
    "stat_orig = si_.stat\n",
    "print(stat_orig)\n",
    "\n",
    "rho_sq = tau**2 / (sigma**2 + tau**2)\n",
    "null = 0.0\n",
    "\n",
    "log_denom = compute_log_area(norm(), RealSubset(region))\n",
    "print(log_denom)\n",
    "def integrand(v):\n",
    "    log_nom = norm.logcdf(stat_orig, loc=rho_sq * null + (1 - rho_sq) * v, scale=sigma * (rho_sq)**0.5)\n",
    "    return np.exp(norm.logpdf(v) + log_nom - log_denom)\n",
    "\n",
    "pivot = 0.0\n",
    "for interval in region:\n",
    "    a, b = interval\n",
    "    if b < stat_orig:\n",
    "        pivot += quad(integrand, a, b)[0]\n",
    "    elif a < stat_orig:\n",
    "        pivot += quad(integrand, a, stat_orig)[0]\n",
    "print(2 * min(pivot, 1 - pivot))\n"
   ]
  },
  {
   "cell_type": "code",
   "execution_count": 13,
   "id": "c2dd117a",
   "metadata": {},
   "outputs": [
    {
     "name": "stderr",
     "output_type": "stream",
     "text": [
      "100%|██████████| 1/1 [00:00<00:00, 14.08it/s]\n",
      "/home/shiraishi.tomohiro/randomization/.venv/lib/python3.12/site-packages/numpy/core/fromnumeric.py:3504: RuntimeWarning: Mean of empty slice.\n",
      "  return _methods._mean(a, axis=axis, dtype=dtype,\n",
      "/home/shiraishi.tomohiro/randomization/.venv/lib/python3.12/site-packages/numpy/core/_methods.py:129: RuntimeWarning: invalid value encountered in scalar divide\n",
      "  ret = ret.dtype.type(ret / rcount)\n"
     ]
    },
    {
     "name": "stdout",
     "output_type": "stream",
     "text": [
      "[0, 9, 7]\n",
      "1\n",
      "0.09758463398127348\n",
      "stat: 2.166167\n",
      "p_value: 0.071305\n",
      "inf_p: 0.071305\n",
      "sup_p: 0.071305\n",
      "searched_intervals: [[-inf, 180858170006385824.000000]]\n",
      "truncated_intervals: [[-8.635131, -0.703932], [0.900041, 4.276912]]\n",
      "search_count: 15\n",
      "detect_count: 6\n",
      "null_rv: norm\n",
      "alternative: two-sided\n",
      "0.11401043396172517\n",
      "0.1\n",
      "0.0\n",
      "nan\n"
     ]
    },
    {
     "data": {
      "image/png": "[encoded data removed]",
      "text/plain": [
       "<Figure size 640x480 with 1 Axes>"
      ]
     },
     "metadata": {},
     "output_type": "display_data"
    },
    {
     "data": {
      "image/png": "[encoded data removed]",
      "text/plain": [
       "<Figure size 640x480 with 1 Axes>"
      ]
     },
     "metadata": {},
     "output_type": "display_data"
    }
   ],
   "source": [
    "rng = np.random.default_rng(0)\n",
    "n, d, k = 100, 10, 3\n",
    "sigma = 1.0\n",
    "tau = 1.0\n",
    "\n",
    "delta = 0.1\n",
    "beta = delta * np.ones(d)\n",
    "\n",
    "p_list_orig = []\n",
    "p_list = []\n",
    "\n",
    "for _ in tqdm(range(1)):\n",
    "    X = rng.normal(size=(n, d))\n",
    "    y = X @ beta + rng.normal(size=n)\n",
    "    omega = rng.normal(size=n, scale=tau)\n",
    "\n",
    "    # ms = MarginalScreeningNorm(X, y, sigma, k)\n",
    "    # p_list_orig.append(ms.inference(rng.integers(k)).p_value)\n",
    "\n",
    "\n",
    "    ms = MarginalScreeningNorm(X, y + omega, None, k)\n",
    "    print(ms.M)\n",
    "    eta = ms.construct_eta(ind:=rng.integers(k))\n",
    "    print(ind)\n",
    "    print(np.linalg.norm(eta))\n",
    "    si = SelectiveInferenceNorm(y + omega, (sigma ** 2 + tau ** 2), eta)\n",
    "    result = si.inference(ms.algorithm, ms.model_selector, inference_mode=\"exhaustive\")\n",
    "    print(result)\n",
    "\n",
    "    region = result.truncated_intervals\n",
    "    region = RealSubset(np.array(region) * np.sqrt(sigma**2 + tau**2))\n",
    "\n",
    "    si_ = SelectiveInferenceNorm(y, sigma**2, eta)\n",
    "    stat_orig = si_.stat * sigma\n",
    "\n",
    "    rho_sq = tau**2 / (sigma**2 + tau**2)\n",
    "    null = 0.0\n",
    "\n",
    "    log_denom = compute_log_area(norm(scale=(sigma ** 2 + tau** 2)**0.5), region)\n",
    "    def integrand(v):\n",
    "        log_nom = norm.logcdf(stat_orig, loc=rho_sq * null + (1 - rho_sq) * v, scale=sigma * (rho_sq)**0.5)\n",
    "        return np.exp(norm.logpdf(v, scale=(sigma ** 2 + tau ** 2)**0.5) + log_nom - log_denom)\n",
    "\n",
    "    pivot = 0.0\n",
    "    for interval in region:\n",
    "        a, b = interval\n",
    "        pivot += quad(integrand, a, b)[0]\n",
    "        # if b < stat_orig:\n",
    "            # pivot += quad(integrand, a, b)[0]\n",
    "        # elif a < stat_orig:\n",
    "            # pivot += quad(integrand, a, stat_orig)[0]\n",
    "    p_randomized = 2 * min(pivot, 1 - pivot)\n",
    "\n",
    "    p_list.append(p_randomized)\n",
    "    print(p_randomized)\n",
    "\n",
    "\n",
    "print(delta)\n",
    "print(np.mean(np.array(p_list) < 0.05))\n",
    "print(np.mean(np.array(p_list_orig) < 0.05))\n",
    "\n",
    "plt.hist(p_list, bins=20)\n",
    "plt.show()\n",
    "\n",
    "plt.hist(p_list_orig, bins=20)\n",
    "plt.show()"
   ]
  },
  {
   "cell_type": "code",
   "execution_count": 37,
   "id": "724a0e51",
   "metadata": {},
   "outputs": [],
   "source": [
    "def ci(fpr_list:np.ndarray) -> np.ndarray:\n",
    "    temp = []\n",
    "    for fpr in fpr_list:\n",
    "        temp.append(norm.ppf(1 - 0.05 / 2) * (fpr * (1 - fpr) / 1000)**0.5)\n",
    "    return np.array(temp)"
   ]
  },
  {
   "cell_type": "code",
   "execution_count": 50,
   "id": "c21d53f5",
   "metadata": {},
   "outputs": [
    {
     "data": {
      "image/png": "[encoded data removed]",
      "text/plain": [
       "<Figure size 640x480 with 1 Axes>"
      ]
     },
     "metadata": {},
     "output_type": "display_data"
    }
   ],
   "source": [
    "import matplotlib.pyplot as plt\n",
    "from sicore import SummaryFigure\n",
    "\n",
    "signals = [0.0, 0.05, 0.1, 0.15, 0.2, 0.3, 0.4]\n",
    "fpr_list_r = [0.047, 0.085, 0.155, 0.294, 0.437, 0.701, 0.852]\n",
    "fpr_list_o = [0.057, 0.09, 0.145, 0.23, 0.329, 0.504, 0.628]\n",
    "\n",
    "plt.errorbar(signals, fpr_list_r, yerr=ci(np.array(fpr_list_r)), label=\"randomized\", fmt=\"o-\",                     capsize=3,\n",
    "                    markersize=4,\n",
    "                    elinewidth=1.2,)\n",
    "plt.errorbar(signals, fpr_list_o, yerr=ci(np.array(fpr_list_o)), label=\"our\", fmt=\"o-\",                     capsize=3,\n",
    "                    markersize=4,\n",
    "                    elinewidth=1.2,)\n",
    "plt.xlabel(\"delta\", fontsize=14)  # delta is the signal amplitude, see the code exam\n",
    "plt.ylabel(\"Rejection Rate\", fontsize=14)\n",
    "plt.ylim(0, 1)\n",
    "plt.hlines(y=0.05, xmin=-0.01, xmax=0.401, colors=\"red\", linestyles=\"dashed\", linewidth=1, label=\"significance level\")\n",
    "plt.legend(frameon=False, fontsize=14)\n",
    "plt.savefig(\"randomized.pdf\", bbox_inches=\"tight\", pad_inches=0.0, transparent=True)"
   ]
  },
  {
   "cell_type": "code",
   "execution_count": null,
   "id": "6f66f38d",
   "metadata": {},
   "outputs": [],
   "source": []
  }
 ],
 "metadata": {
  "kernelspec": {
   "display_name": "randomization",
   "language": "python",
   "name": "python3"
  },
  "language_info": {
   "codemirror_mode": {
    "name": "ipython",
    "version": 3
   },
   "file_extension": ".py",
   "mimetype": "text/x-python",
   "name": "python",
   "nbconvert_exporter": "python",
   "pygments_lexer": "ipython3",
   "version": "3.12.5"
  }
 },
 "nbformat": 4,
 "nbformat_minor": 5
}
