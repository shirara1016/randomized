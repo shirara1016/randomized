{
 "cells": [
  {
   "cell_type": "code",
   "execution_count": 1,
   "id": "867b7e57",
   "metadata": {},
   "outputs": [
    {
     "name": "stdout",
     "output_type": "stream",
     "text": [
      "shape: (10_000, 8)\n",
      "┌────────────┬───────┬─────────────┬──────────┬───────────┬───────────┬────────────┬───────────┐\n",
      "│ method     ┆ delta ┆ true_signal ┆ p        ┆ ci_lower  ┆ ci_upper  ┆ is_contain ┆ mle       │\n",
      "│ ---        ┆ ---   ┆ ---         ┆ ---      ┆ ---       ┆ ---       ┆ ---        ┆ ---       │\n",
      "│ str        ┆ f64   ┆ f64         ┆ f64      ┆ f64       ┆ f64       ┆ bool       ┆ f64       │\n",
      "╞════════════╪═══════╪═════════════╪══════════╪═══════════╪═══════════╪════════════╪═══════════╡\n",
      "│ polyhedral ┆ 0.0   ┆ 0.0         ┆ 0.721535 ┆ -0.292009 ┆ 0.101423  ┆ true       ┆ -0.060849 │\n",
      "│ polyhedral ┆ 0.0   ┆ 0.0         ┆ 0.223528 ┆ -0.15573  ┆ 0.276633  ┆ true       ┆ 0.084976  │\n",
      "│ polyhedral ┆ 0.0   ┆ 0.0         ┆ 0.703385 ┆ -0.091647 ┆ 0.299277  ┆ true       ┆ 0.060388  │\n",
      "│ polyhedral ┆ 0.0   ┆ 0.0         ┆ 0.003802 ┆ -0.486539 ┆ -0.140551 ┆ false      ┆ -0.316808 │\n",
      "│ polyhedral ┆ 0.0   ┆ 0.0         ┆ 0.256378 ┆ -0.031266 ┆ 0.761571  ┆ true       ┆ 0.169407  │\n",
      "│ …          ┆ …     ┆ …           ┆ …        ┆ …         ┆ …         ┆ …          ┆ …         │\n",
      "│ polyhedral ┆ 0.0   ┆ 0.0         ┆ 0.563888 ┆ -0.091843 ┆ 0.311644  ┆ true       ┆ 0.075245  │\n",
      "│ polyhedral ┆ 0.0   ┆ 0.0         ┆ 0.983081 ┆ 0.328701  ┆ 25.738851 ┆ false      ┆ 8.529474  │\n",
      "│ polyhedral ┆ 0.0   ┆ 0.0         ┆ 0.318332 ┆ -0.326971 ┆ 0.043747  ┆ true       ┆ -0.0976   │\n",
      "│ polyhedral ┆ 0.0   ┆ 0.0         ┆ 0.864174 ┆ -6.643484 ┆ 0.487403  ┆ true       ┆ -2.116445 │\n",
      "│ polyhedral ┆ 0.0   ┆ 0.0         ┆ 0.87727  ┆ -0.181795 ┆ 0.090517  ┆ true       ┆ -0.040628 │\n",
      "└────────────┴───────┴─────────────┴──────────┴───────────┴───────────┴────────────┴───────────┘\n"
     ]
    }
   ],
   "source": [
    "import polars as pl\n",
    "\n",
    "frame = pl.read_csv(\"results/*.csv\")\n",
    "print(frame)"
   ]
  }
 ],
 "metadata": {
  "kernelspec": {
   "display_name": "randomization",
   "language": "python",
   "name": "python3"
  },
  "language_info": {
   "codemirror_mode": {
    "name": "ipython",
    "version": 3
   },
   "file_extension": ".py",
   "mimetype": "text/x-python",
   "name": "python",
   "nbconvert_exporter": "python",
   "pygments_lexer": "ipython3",
   "version": "3.12.5"
  }
 },
 "nbformat": 4,
 "nbformat_minor": 5
}
